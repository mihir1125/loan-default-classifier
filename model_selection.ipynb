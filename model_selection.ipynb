{
 "cells": [
  {
   "cell_type": "markdown",
   "metadata": {},
   "source": [
    "# Model selection"
   ]
  },
  {
   "cell_type": "code",
   "execution_count": 1,
   "metadata": {},
   "outputs": [],
   "source": [
    "from model_ import LRModel, RFModel, NNModel, SVMModel"
   ]
  },
  {
   "cell_type": "markdown",
   "metadata": {},
   "source": [
    "## Logistic Regression"
   ]
  },
  {
   "cell_type": "code",
   "execution_count": 2,
   "metadata": {},
   "outputs": [
    {
     "name": "stdout",
     "output_type": "stream",
     "text": [
      "Model Evaluation Summary:\n",
      "              precision    recall  f1-score   support\n",
      "\n",
      "           0       0.66      0.17      0.27      3055\n",
      "           1       0.67      0.95      0.79      5400\n",
      "\n",
      "    accuracy                           0.67      8455\n",
      "   macro avg       0.67      0.56      0.53      8455\n",
      "weighted avg       0.67      0.67      0.60      8455\n",
      "\n",
      "Confusion Matrix:\n",
      "[[ 513 2542]\n",
      " [ 261 5139]]\n"
     ]
    }
   ],
   "source": [
    "model = LRModel(max_iter=1000) # Logistic Regression\n",
    "\n",
    "model.load(\"data/train_data.xlsx\")\n",
    "\n",
    "X_train, y_train = model.preprocess()\n",
    "model.train(X_train, y_train)\n",
    "\n",
    "model.test(\"data/test_data.xlsx\")"
   ]
  },
  {
   "cell_type": "markdown",
   "metadata": {},
   "source": [
    "## Random Forest"
   ]
  },
  {
   "cell_type": "code",
   "execution_count": 3,
   "metadata": {},
   "outputs": [
    {
     "name": "stdout",
     "output_type": "stream",
     "text": [
      "Model Evaluation Summary:\n",
      "              precision    recall  f1-score   support\n",
      "\n",
      "           0       0.63      0.25      0.36      3055\n",
      "           1       0.68      0.92      0.78      5400\n",
      "\n",
      "    accuracy                           0.68      8455\n",
      "   macro avg       0.66      0.58      0.57      8455\n",
      "weighted avg       0.66      0.68      0.63      8455\n",
      "\n",
      "Confusion Matrix:\n",
      "[[ 755 2300]\n",
      " [ 439 4961]]\n"
     ]
    }
   ],
   "source": [
    "model = RFModel(n_estimators=100)\n",
    "\n",
    "model.load(\"data/train_data.xlsx\")\n",
    "\n",
    "X_train, y_train = model.preprocess()\n",
    "model.train(X_train, y_train)\n",
    "\n",
    "model.test(\"data/test_data.xlsx\")"
   ]
  },
  {
   "cell_type": "markdown",
   "metadata": {},
   "source": [
    "## Neural Network"
   ]
  },
  {
   "cell_type": "code",
   "execution_count": 4,
   "metadata": {},
   "outputs": [
    {
     "name": "stdout",
     "output_type": "stream",
     "text": [
      "Model Evaluation Summary:\n",
      "              precision    recall  f1-score   support\n",
      "\n",
      "           0       0.62      0.22      0.32      3055\n",
      "           1       0.68      0.92      0.78      5400\n",
      "\n",
      "    accuracy                           0.67      8455\n",
      "   macro avg       0.65      0.57      0.55      8455\n",
      "weighted avg       0.66      0.67      0.62      8455\n",
      "\n",
      "Confusion Matrix:\n",
      "[[ 668 2387]\n",
      " [ 413 4987]]\n"
     ]
    }
   ],
   "source": [
    "model = NNModel(max_iter=500)\n",
    "\n",
    "model.load(\"data/train_data.xlsx\")\n",
    "\n",
    "X_train, y_train = model.preprocess()\n",
    "model.train(X_train, y_train)\n",
    "\n",
    "model.test(\"data/test_data.xlsx\")"
   ]
  },
  {
   "cell_type": "markdown",
   "metadata": {},
   "source": [
    "# Conclusion\n",
    "- The logistic regression model is able to perform at par with Random Forest and the MLP classifier model\n",
    "- It is also much more computationally efficiient\n",
    "- Therfore, it can adapt quickly to varying changes/trends in the data and can be trained on newer datasets more quickly"
   ]
  }
 ],
 "metadata": {
  "kernelspec": {
   "display_name": "venv",
   "language": "python",
   "name": "python3"
  },
  "language_info": {
   "codemirror_mode": {
    "name": "ipython",
    "version": 3
   },
   "file_extension": ".py",
   "mimetype": "text/x-python",
   "name": "python",
   "nbconvert_exporter": "python",
   "pygments_lexer": "ipython3",
   "version": "3.11.9"
  }
 },
 "nbformat": 4,
 "nbformat_minor": 2
}
